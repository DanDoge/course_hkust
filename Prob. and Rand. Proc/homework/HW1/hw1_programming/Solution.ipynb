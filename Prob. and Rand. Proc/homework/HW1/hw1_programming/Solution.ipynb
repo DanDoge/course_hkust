{
 "cells": [
  {
   "cell_type": "code",
   "execution_count": 3,
   "metadata": {},
   "outputs": [],
   "source": [
    "import pandas as pd\n",
    "data = pd.read_excel(\"rainfall2018.xlsx\")"
   ]
  },
  {
   "cell_type": "code",
   "execution_count": 4,
   "metadata": {},
   "outputs": [],
   "source": [
    "data[\"rainy\"] = data[\"rainfall\"] > 0.0"
   ]
  },
  {
   "cell_type": "code",
   "execution_count": 5,
   "metadata": {},
   "outputs": [
    {
     "data": {
      "text/plain": [
       "141"
      ]
     },
     "execution_count": 5,
     "metadata": {},
     "output_type": "execute_result"
    }
   ],
   "source": [
    "rainy_days_counter = data.groupby(\"rainy\")[\"rainy\"].groups[True].size\n",
    "rainy_days_counter"
   ]
  },
  {
   "cell_type": "markdown",
   "metadata": {},
   "source": [
    "Here, it shows that the number of rainy day in 2018 is 141."
   ]
  },
  {
   "cell_type": "code",
   "execution_count": 6,
   "metadata": {},
   "outputs": [
    {
     "data": {
      "text/plain": [
       "92"
      ]
     },
     "execution_count": 6,
     "metadata": {},
     "output_type": "execute_result"
    }
   ],
   "source": [
    "# similarly, we compute the spring days in 2018\n",
    "spring_days_counter = data.groupby(\"season\")[\"season\"].groups[\"spring\"].size\n",
    "spring_days_counter"
   ]
  },
  {
   "cell_type": "markdown",
   "metadata": {},
   "source": [
    "We have the number of spring days in 2018 is 92"
   ]
  },
  {
   "cell_type": "code",
   "execution_count": 7,
   "metadata": {},
   "outputs": [
    {
     "data": {
      "text/plain": [
       "season  rainy\n",
       "fall    False    53\n",
       "        True     38\n",
       "spring  False    73\n",
       "        True     19\n",
       "summer  True     66\n",
       "        False    26\n",
       "winter  False    72\n",
       "        True     18\n",
       "Name: rainy, dtype: int64"
      ]
     },
     "execution_count": 7,
     "metadata": {},
     "output_type": "execute_result"
    }
   ],
   "source": [
    "rain_by_season = data.groupby(\"season\")[\"rainy\"].value_counts()\n",
    "rain_by_season"
   ]
  },
  {
   "cell_type": "code",
   "execution_count": 8,
   "metadata": {},
   "outputs": [
    {
     "data": {
      "text/plain": [
       "19"
      ]
     },
     "execution_count": 8,
     "metadata": {},
     "output_type": "execute_result"
    }
   ],
   "source": [
    "spring_rainy_days_counter = rain_by_season[\"spring\"][True]\n",
    "spring_rainy_days_counter"
   ]
  },
  {
   "cell_type": "markdown",
   "metadata": {},
   "source": [
    "Here, the number of rainy days in the spring season in 2018 is 19"
   ]
  },
  {
   "cell_type": "code",
   "execution_count": 9,
   "metadata": {},
   "outputs": [
    {
     "data": {
      "text/plain": [
       "365"
      ]
     },
     "execution_count": 9,
     "metadata": {},
     "output_type": "execute_result"
    }
   ],
   "source": [
    "days_counter = data.shape[0]\n",
    "days_counter # show the number of days in 2018, though it seems obvious"
   ]
  },
  {
   "cell_type": "code",
   "execution_count": 10,
   "metadata": {},
   "outputs": [
    {
     "data": {
      "text/plain": [
       "(0.3863013698630137, 0.25205479452054796, 0.052054794520547946)"
      ]
     },
     "execution_count": 10,
     "metadata": {},
     "output_type": "execute_result"
    }
   ],
   "source": [
    "P_rainy = rainy_days_counter / days_counter\n",
    "P_spring = spring_days_counter / days_counter\n",
    "P_spring_rainy = spring_rainy_days_counter / days_counter\n",
    "P_rainy, P_spring, P_spring_rainy"
   ]
  },
  {
   "cell_type": "markdown",
   "metadata": {},
   "source": [
    "Here, the answers to (d), (e), (f) are shown respectively"
   ]
  },
  {
   "cell_type": "code",
   "execution_count": 11,
   "metadata": {},
   "outputs": [
    {
     "data": {
      "text/plain": [
       "(0.1347517730496454, 0.20652173913043478)"
      ]
     },
     "execution_count": 11,
     "metadata": {},
     "output_type": "execute_result"
    }
   ],
   "source": [
    "# using counters calculated above, we can derive\n",
    "P_spring_given_rainy = spring_rainy_days_counter / rainy_days_counter\n",
    "P_rainy_given_spring = spring_rainy_days_counter / spring_days_counter\n",
    "P_spring_given_rainy, P_rainy_given_spring"
   ]
  },
  {
   "cell_type": "markdown",
   "metadata": {},
   "source": [
    "These are answers to (g), (h)"
   ]
  },
  {
   "cell_type": "code",
   "execution_count": 22,
   "metadata": {},
   "outputs": [
    {
     "name": "stdout",
     "output_type": "stream",
     "text": [
      "The probability of raining on this day is 0.2.\n"
     ]
    }
   ],
   "source": [
    "# a general estimator following the above procedure\n",
    "def estimator(data, day):\n",
    "    season = data.loc[day].season\n",
    "    season_days_counter = data.groupby(\"season\")[\"season\"].groups[season].size\n",
    "    rain_by_season = data.groupby(\"season\")[\"rainy\"].value_counts()\n",
    "    season_rainy_days_counter = rain_by_season[season][True]\n",
    "    print(\"The probability of raining on this day is \" \n",
    "          + str(season_rainy_days_counter / season_days_counter)\n",
    "          + \".\")\n",
    "\n",
    "# an example, we see the output is consistant with the fact that \n",
    "# in 2018, it rained on 18 days out of 90 winter days.\n",
    "estimator(data, 1)"
   ]
  },
  {
   "cell_type": "code",
   "execution_count": null,
   "metadata": {},
   "outputs": [],
   "source": []
  }
 ],
 "metadata": {
  "kernelspec": {
   "display_name": "Python 3",
   "language": "python",
   "name": "python3"
  },
  "language_info": {
   "codemirror_mode": {
    "name": "ipython",
    "version": 3
   },
   "file_extension": ".py",
   "mimetype": "text/x-python",
   "name": "python",
   "nbconvert_exporter": "python",
   "pygments_lexer": "ipython3",
   "version": "3.7.0"
  }
 },
 "nbformat": 4,
 "nbformat_minor": 2
}
